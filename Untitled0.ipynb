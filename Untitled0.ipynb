{
  "nbformat": 4,
  "nbformat_minor": 0,
  "metadata": {
    "colab": {
      "name": "Untitled0.ipynb",
      "provenance": [],
      "authorship_tag": "ABX9TyMbdLUk6ldDBCjwssJwIAfb",
      "include_colab_link": true
    },
    "kernelspec": {
      "display_name": "Python 3",
      "name": "python3"
    },
    "language_info": {
      "name": "python"
    }
  },
  "cells": [
    {
      "cell_type": "markdown",
      "metadata": {
        "id": "view-in-github",
        "colab_type": "text"
      },
      "source": [
        "<a href=\"https://colab.research.google.com/github/abhinav1312/ProjectReview1/blob/main/Untitled0.ipynb\" target=\"_parent\"><img src=\"https://colab.research.google.com/assets/colab-badge.svg\" alt=\"Open In Colab\"/></a>"
      ]
    },
    {
      "cell_type": "markdown",
      "metadata": {
        "id": "Jl7bBYqsRUyf"
      },
      "source": [
        "# **Importing modules**"
      ]
    },
    {
      "cell_type": "code",
      "metadata": {
        "id": "0hBrP8pj6KQo"
      },
      "source": [
        "\n",
        "!pip install -U -q PyDrive\n",
        "from pydrive.auth import GoogleAuth\n",
        "from pydrive.drive import GoogleDrive\n",
        "from google.colab import auth\n",
        "from oauth2client.client import GoogleCredentials\n",
        "import pandas as pd\n",
        "import string\n",
        "import sklearn\n",
        "import re\n",
        "auth.authenticate_user()\n",
        "gauth=GoogleAuth()\n",
        "gauth.credentials=GoogleCredentials.get_application_default()\n",
        "drive=GoogleDrive(gauth)\n",
        "\n",
        "\n"
      ],
      "execution_count": null,
      "outputs": []
    },
    {
      "cell_type": "markdown",
      "metadata": {
        "id": "V2YTi3pGRbf5"
      },
      "source": [
        "# **importing dataset from google drive in colab**\n",
        "\n"
      ]
    },
    {
      "cell_type": "code",
      "metadata": {
        "id": "U70BvAwfpGKw"
      },
      "source": [
        "downloaded=drive.CreateFile({'id' :'1FQeZ9lMwE2lehXi84M5sps9b2OGGKQH5'})\n",
        "downloaded.GetContentFile('dataset.csv') \n"
      ],
      "execution_count": null,
      "outputs": []
    },
    {
      "cell_type": "markdown",
      "metadata": {
        "id": "OvcM0dbbSCr0"
      },
      "source": [
        "# Reading **dataset**"
      ]
    },
    {
      "cell_type": "code",
      "metadata": {
        "colab": {
          "base_uri": "https://localhost:8080/",
          "height": 201
        },
        "id": "d8oZsh1BqU5z",
        "outputId": "ff6b41a7-cc9f-42da-8b3b-b81ef8572e26"
      },
      "source": [
        "\n",
        "data=pd.read_csv('dataset.csv')\n",
        "#pd.set_option('display.max_colwidth',300)\n",
        "#data.columns\n",
        "data.head()"
      ],
      "execution_count": null,
      "outputs": [
        {
          "output_type": "execute_result",
          "data": {
            "text/html": [
              "<div>\n",
              "<style scoped>\n",
              "    .dataframe tbody tr th:only-of-type {\n",
              "        vertical-align: middle;\n",
              "    }\n",
              "\n",
              "    .dataframe tbody tr th {\n",
              "        vertical-align: top;\n",
              "    }\n",
              "\n",
              "    .dataframe thead th {\n",
              "        text-align: right;\n",
              "    }\n",
              "</style>\n",
              "<table border=\"1\" class=\"dataframe\">\n",
              "  <thead>\n",
              "    <tr style=\"text-align: right;\">\n",
              "      <th></th>\n",
              "      <th>index</th>\n",
              "      <th>oh_label</th>\n",
              "      <th>Date</th>\n",
              "      <th>Text</th>\n",
              "    </tr>\n",
              "  </thead>\n",
              "  <tbody>\n",
              "    <tr>\n",
              "      <th>0</th>\n",
              "      <td>0</td>\n",
              "      <td>1</td>\n",
              "      <td>20120618192155Z</td>\n",
              "      <td>\"You fuck your dad.\"</td>\n",
              "    </tr>\n",
              "    <tr>\n",
              "      <th>1</th>\n",
              "      <td>1</td>\n",
              "      <td>0</td>\n",
              "      <td>20120528192215Z</td>\n",
              "      <td>\"i really don't understand your point.\\xa0 It ...</td>\n",
              "    </tr>\n",
              "    <tr>\n",
              "      <th>2</th>\n",
              "      <td>2</td>\n",
              "      <td>0</td>\n",
              "      <td>NaN</td>\n",
              "      <td>\"A\\\\xc2\\\\xa0majority of Canadians can and has ...</td>\n",
              "    </tr>\n",
              "    <tr>\n",
              "      <th>3</th>\n",
              "      <td>3</td>\n",
              "      <td>0</td>\n",
              "      <td>NaN</td>\n",
              "      <td>\"listen if you dont wanna get married to a man...</td>\n",
              "    </tr>\n",
              "    <tr>\n",
              "      <th>4</th>\n",
              "      <td>4</td>\n",
              "      <td>0</td>\n",
              "      <td>20120619094753Z</td>\n",
              "      <td>\"C\\xe1c b\\u1ea1n xu\\u1ed1ng \\u0111\\u01b0\\u1edd...</td>\n",
              "    </tr>\n",
              "  </tbody>\n",
              "</table>\n",
              "</div>"
            ],
            "text/plain": [
              "   index  ...                                               Text\n",
              "0      0  ...                               \"You fuck your dad.\"\n",
              "1      1  ...  \"i really don't understand your point.\\xa0 It ...\n",
              "2      2  ...  \"A\\\\xc2\\\\xa0majority of Canadians can and has ...\n",
              "3      3  ...  \"listen if you dont wanna get married to a man...\n",
              "4      4  ...  \"C\\xe1c b\\u1ea1n xu\\u1ed1ng \\u0111\\u01b0\\u1edd...\n",
              "\n",
              "[5 rows x 4 columns]"
            ]
          },
          "metadata": {},
          "execution_count": 3
        }
      ]
    },
    {
      "cell_type": "markdown",
      "metadata": {
        "id": "KyVvQhSKFP0S"
      },
      "source": [
        "# **Dataset cleaning**"
      ]
    },
    {
      "cell_type": "code",
      "metadata": {
        "colab": {
          "base_uri": "https://localhost:8080/",
          "height": 201
        },
        "id": "Z_yvza8mr0N-",
        "outputId": "ed89db82-a16d-424d-c5af-ebdc60957a54"
      },
      "source": [
        "\n",
        "data.drop(['Date'], axis=1 ,inplace=True) #drop date column\n",
        "def clean_txt(txt):\n",
        "  txt=\"\".join([c for c in txt if c not in string.punctuation])\n",
        "  txt=re.sub(r'#',\"\",txt) #Removed ‘#’ symbol\n",
        "  txt=re.sub(r\"RT[\\s]+\",\"\",txt)  #Removing RT\n",
        "  txt=re.sub(r\"https?:\\/\\/\\s+\",\"\",txt) #Removing the hyperlink\n",
        "  return txt\n",
        "data['Text']=data['Text'].apply(lambda x: clean_txt(x))\n",
        "data.head()"
      ],
      "execution_count": null,
      "outputs": [
        {
          "output_type": "execute_result",
          "data": {
            "text/html": [
              "<div>\n",
              "<style scoped>\n",
              "    .dataframe tbody tr th:only-of-type {\n",
              "        vertical-align: middle;\n",
              "    }\n",
              "\n",
              "    .dataframe tbody tr th {\n",
              "        vertical-align: top;\n",
              "    }\n",
              "\n",
              "    .dataframe thead th {\n",
              "        text-align: right;\n",
              "    }\n",
              "</style>\n",
              "<table border=\"1\" class=\"dataframe\">\n",
              "  <thead>\n",
              "    <tr style=\"text-align: right;\">\n",
              "      <th></th>\n",
              "      <th>index</th>\n",
              "      <th>oh_label</th>\n",
              "      <th>Text</th>\n",
              "    </tr>\n",
              "  </thead>\n",
              "  <tbody>\n",
              "    <tr>\n",
              "      <th>0</th>\n",
              "      <td>0</td>\n",
              "      <td>1</td>\n",
              "      <td>You fuck your dad</td>\n",
              "    </tr>\n",
              "    <tr>\n",
              "      <th>1</th>\n",
              "      <td>1</td>\n",
              "      <td>0</td>\n",
              "      <td>i really dont understand your pointxa0 It seem...</td>\n",
              "    </tr>\n",
              "    <tr>\n",
              "      <th>2</th>\n",
              "      <td>2</td>\n",
              "      <td>0</td>\n",
              "      <td>Axc2xa0majority of Canadians can and has been ...</td>\n",
              "    </tr>\n",
              "    <tr>\n",
              "      <th>3</th>\n",
              "      <td>3</td>\n",
              "      <td>0</td>\n",
              "      <td>listen if you dont wanna get married to a man ...</td>\n",
              "    </tr>\n",
              "    <tr>\n",
              "      <th>4</th>\n",
              "      <td>4</td>\n",
              "      <td>0</td>\n",
              "      <td>Cxe1c bu1ea1n xuu1ed1ng u0111u01b0u1eddng biu1...</td>\n",
              "    </tr>\n",
              "  </tbody>\n",
              "</table>\n",
              "</div>"
            ],
            "text/plain": [
              "   index  oh_label                                               Text\n",
              "0      0         1                                  You fuck your dad\n",
              "1      1         0  i really dont understand your pointxa0 It seem...\n",
              "2      2         0  Axc2xa0majority of Canadians can and has been ...\n",
              "3      3         0  listen if you dont wanna get married to a man ...\n",
              "4      4         0  Cxe1c bu1ea1n xuu1ed1ng u0111u01b0u1eddng biu1..."
            ]
          },
          "metadata": {},
          "execution_count": 4
        }
      ]
    },
    {
      "cell_type": "markdown",
      "metadata": {
        "id": "zMRdqhHwQf_l"
      },
      "source": [
        "# **Vectorizing the dataset**"
      ]
    },
    {
      "cell_type": "code",
      "metadata": {
        "id": "Jl9_DG1EDGJn"
      },
      "source": [
        "from sklearn.feature_extraction.text import CountVectorizer\n",
        "from sklearn.model_selection import train_test_split\n"
      ],
      "execution_count": null,
      "outputs": []
    },
    {
      "cell_type": "markdown",
      "metadata": {
        "id": "c91GeQ10OvXJ"
      },
      "source": [
        "# **Labelling columns**"
      ]
    },
    {
      "cell_type": "code",
      "metadata": {
        "id": "wc2b9S-wzByK",
        "colab": {
          "base_uri": "https://localhost:8080/"
        },
        "outputId": "e24ca914-2e5f-4b5a-dd03-984a8c2a85d9"
      },
      "source": [
        "\n",
        "X=data['Text']\n",
        "y=data['oh_label'] \n",
        "data.isnull().sum()\n",
        "X.shape\n"
      ],
      "execution_count": null,
      "outputs": [
        {
          "output_type": "execute_result",
          "data": {
            "text/plain": [
              "(8799,)"
            ]
          },
          "metadata": {},
          "execution_count": 11
        }
      ]
    },
    {
      "cell_type": "markdown",
      "metadata": {
        "id": "S6aMBPGiO8BV"
      },
      "source": [
        "# **Vectorizing and creating sparse matrix of dataset**"
      ]
    },
    {
      "cell_type": "code",
      "metadata": {
        "id": "374TF8ZoLVUO"
      },
      "source": [
        "cv=CountVectorizer()\n",
        "X=cv.fit_transform(X) #creating sparse matrix"
      ],
      "execution_count": null,
      "outputs": []
    },
    {
      "cell_type": "markdown",
      "metadata": {
        "id": "EnB2INQcPFVa"
      },
      "source": [
        "# **Splitting dataset into train-test modules**"
      ]
    },
    {
      "cell_type": "code",
      "metadata": {
        "id": "hrt5aXU3LYgt"
      },
      "source": [
        "\n",
        "x_train, x_test,y_train, y_test=train_test_split(X,y, test_size=0.2, random_state=42)"
      ],
      "execution_count": null,
      "outputs": []
    },
    {
      "cell_type": "markdown",
      "metadata": {
        "id": "y_XAPZRwPNb4"
      },
      "source": [
        "# **Importing Naive Bayes**"
      ]
    },
    {
      "cell_type": "code",
      "metadata": {
        "colab": {
          "base_uri": "https://localhost:8080/"
        },
        "id": "xLObzC9KL5bh",
        "outputId": "e0729f5a-ef67-4497-cc77-7373378f4d36"
      },
      "source": [
        "from sklearn.naive_bayes import MultinomialNB\n",
        "\n",
        "model=MultinomialNB()\n",
        "\n",
        "model.fit(x_train, y_train)\n",
        "model.score(x_test, y_test) #tells accuracy of our algorithm"
      ],
      "execution_count": null,
      "outputs": [
        {
          "output_type": "execute_result",
          "data": {
            "text/plain": [
              "0.7534090909090909"
            ]
          },
          "metadata": {},
          "execution_count": 18
        }
      ]
    },
    {
      "cell_type": "markdown",
      "metadata": {
        "id": "K_wamuGlPZVM"
      },
      "source": [
        "# **Taking input from user and applying naive bayes algorithm**"
      ]
    },
    {
      "cell_type": "code",
      "metadata": {
        "colab": {
          "base_uri": "https://localhost:8080/"
        },
        "id": "3nRmAg1WMKcO",
        "outputId": "89319ef1-c4ab-45cc-b0ea-a17778f65657"
      },
      "source": [
        "\n",
        "msg=\"You are such a retarded person .\"\n",
        "data = [msg]\n",
        "vect = cv.transform(data).toarray()\n",
        "my_prediction = model.predict(vect)\n",
        "if my_prediction[0]==1:\n",
        "  print(\"Offensive\")\n",
        "else:\n",
        "  print(\"Not Offensive\")"
      ],
      "execution_count": null,
      "outputs": [
        {
          "output_type": "stream",
          "name": "stdout",
          "text": [
            "Offensive\n"
          ]
        }
      ]
    }
  ]
}